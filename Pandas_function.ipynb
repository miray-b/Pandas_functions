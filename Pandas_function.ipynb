{
    "cells": [
        {
            "cell_type": "markdown",
            "metadata": {},
            "source": [
                "# Pandas Fonksiyonları ve Örnek Kullanımları\n"
            ]
        },
        {
            "cell_type": "markdown",
            "metadata": {},
            "source": [
                "## 1. head() – İlk birkaç satırı görüntüleme"
            ]
        },
        {
            "cell_type": "code",
            "execution_count": null,
            "metadata": {},
            "source": [
                "import pandas as pd\n",
                "df = pd.DataFrame({\"A\": [1, 2, 3, 4, 5], \"B\": [10, 20, 30, 40, 50]})\n",
                "print(df.head(3))  # İlk 3 satırı gösterir"
            ]
        },
        {
            "cell_type": "markdown",
            "metadata": {},
            "source": [
                "## 2. info() – Veri çerçevesinin özet bilgisi"
            ]
        },
        {
            "cell_type": "code",
            "execution_count": null,
            "metadata": {},
            "source": [
                "print(df.info())"
            ]
        },
        {
            "cell_type": "markdown",
            "metadata": {},
            "source": [
                "## 3. describe() – İstatistiksel özet çıkarma"
            ]
        },
        {
            "cell_type": "code",
            "execution_count": null,
            "metadata": {},
            "source": [
                "print(df.describe())"
            ]
        },
        {
            "cell_type": "markdown",
            "metadata": {},
            "source": [
                "## 4. isnull().sum() – Eksik verileri tespit etme"
            ]
        },
        {
            "cell_type": "code",
            "execution_count": null,
            "metadata": {},
            "source": [
                "df_missing = pd.DataFrame({\"A\": [1, None, 3], \"B\": [4, 5, None]})\n",
                "print(df_missing.isnull().sum())"
            ]
        },
        {
            "cell_type": "markdown",
            "metadata": {},
            "source": [
                "## 5. fillna() – Eksik verileri doldurma"
            ]
        },
        {
            "cell_type": "code",
            "execution_count": null,
            "metadata": {},
            "source": [
                "df_filled = df_missing.fillna(0)\n",
                "print(df_filled)"
            ]
        },
        {
            "cell_type": "markdown",
            "metadata": {},
            "source": [
                "## 6. dropna() – Eksik verileri silme"
            ]
        },
        {
            "cell_type": "code",
            "execution_count": null,
            "metadata": {},
            "source": [
                "df_dropped = df_missing.dropna()\n",
                "print(df_dropped)"
            ]
        },
        {
            "cell_type": "markdown",
            "metadata": {},
            "source": [
                "## 7. groupby() – Gruplama işlemleri"
            ]
        },
        {
            "cell_type": "code",
            "execution_count": null,
            "metadata": {},
            "source": [
                "df_group = pd.DataFrame({\"Kategori\": [\"A\", \"B\", \"A\", \"B\"], \"Değer\": [10, 20, 30, 40]})\n",
                "print(df_group.groupby(\"Kategori\").mean())"
            ]
        },
        {
            "cell_type": "markdown",
            "metadata": {},
            "source": [
                "## 8. sort_values() – Değerleri sıralama"
            ]
        },
        {
            "cell_type": "code",
            "execution_count": null,
            "metadata": {},
            "source": [
                "df_sorted = df.sort_values(\"B\", ascending=False)\n",
                "print(df_sorted)"
            ]
        },
        {
            "cell_type": "markdown",
            "metadata": {},
            "source": [
                "## 9. apply() – Özel fonksiyonlarla veri işleme"
            ]
        },
        {
            "cell_type": "code",
            "execution_count": null,
            "metadata": {},
            "source": [
                "df[\"C\"] = df[\"A\"].apply(lambda x: x * 2)\n",
                "print(df)"
            ]
        },
        {
            "cell_type": "markdown",
            "metadata": {},
            "source": [
                "## 10. merge() – İki DataFrame’i birleştirme"
            ]
        },
        {
            "cell_type": "code",
            "execution_count": null,
            "metadata": {},
            "source": [
                "df1 = pd.DataFrame({\"ID\": [1, 2, 3], \"Ad\": [\"Miray\", \"Kaan\", \"Yiğit\"]})\n",
                "df2 = pd.DataFrame({\"ID\": [1, 2, 3], \"Not\": [90, 85, 95]})\n",
                "df_merged = pd.merge(df1, df2, on=\"ID\")\n",
                "print(df_merged)"
            ]
        }
    ],
    "metadata": {
        "kernelspec": {
            "display_name": "Python 3",
            "language": "python",
            "name": "python3"
        }
    },
    "nbformat": 4,
    "nbformat_minor": 2
}