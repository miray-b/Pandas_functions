{
  "cells": [
    {
      "cell_type": "markdown",
      "metadata": {
        "id": "view-in-github",
        "colab_type": "text"
      },
      "source": [
        "<a href=\"https://colab.research.google.com/github/miray-b/pandas_functions/blob/main/Pandas_function.ipynb\" target=\"_parent\"><img src=\"https://colab.research.google.com/assets/colab-badge.svg\" alt=\"Open In Colab\"/></a>"
      ]
    },
    {
      "cell_type": "markdown",
      "metadata": {
        "id": "PXcqlcpJt0g8"
      },
      "source": [
        "# Pandas Fonksiyonları ve Örnek Kullanımları\n"
      ]
    },
    {
      "cell_type": "markdown",
      "metadata": {
        "id": "jq34ylwTt0hA"
      },
      "source": [
        "## 1. head() – İlk birkaç satırı görüntüleme"
      ]
    },
    {
      "cell_type": "code",
      "execution_count": null,
      "metadata": {
        "id": "8ywV5fPOt0hC"
      },
      "source": [
        "import pandas as pd\n",
        "df = pd.DataFrame({\"A\": [1, 2, 3, 4, 5], \"B\": [10, 20, 30, 40, 50]})\n",
        "print(df.head(3))  # İlk 3 satırı gösterir"
      ],
      "outputs": []
    },
    {
      "cell_type": "markdown",
      "metadata": {
        "id": "StfDrYEft0hE"
      },
      "source": [
        "## 2. info() – Veri çerçevesinin özet bilgisi"
      ]
    },
    {
      "cell_type": "code",
      "execution_count": null,
      "metadata": {
        "id": "-0Aj1_ZSt0hE"
      },
      "source": [
        "print(df.info())"
      ],
      "outputs": []
    },
    {
      "cell_type": "markdown",
      "metadata": {
        "id": "KggRC_W6t0hF"
      },
      "source": [
        "## 3. describe() – İstatistiksel özet çıkarma"
      ]
    },
    {
      "cell_type": "code",
      "execution_count": null,
      "metadata": {
        "id": "cxAR87J2t0hG"
      },
      "source": [
        "print(df.describe())"
      ],
      "outputs": []
    },
    {
      "cell_type": "markdown",
      "metadata": {
        "id": "LgzdZ2vgt0hH"
      },
      "source": [
        "## 4. isnull().sum() – Eksik verileri tespit etme"
      ]
    },
    {
      "cell_type": "code",
      "execution_count": null,
      "metadata": {
        "id": "zAOK9FvMt0hI"
      },
      "source": [
        "df_missing = pd.DataFrame({\"A\": [1, None, 3], \"B\": [4, 5, None]})\n",
        "print(df_missing.isnull().sum())"
      ],
      "outputs": []
    },
    {
      "cell_type": "markdown",
      "metadata": {
        "id": "VVb5hElOt0hJ"
      },
      "source": [
        "## 5. fillna() – Eksik verileri doldurma"
      ]
    },
    {
      "cell_type": "code",
      "execution_count": null,
      "metadata": {
        "id": "BH_FQVXut0hK"
      },
      "source": [
        "df_filled = df_missing.fillna(0)\n",
        "print(df_filled)"
      ],
      "outputs": []
    },
    {
      "cell_type": "markdown",
      "metadata": {
        "id": "wvydCz4Jt0hK"
      },
      "source": [
        "## 6. dropna() – Eksik verileri silme"
      ]
    },
    {
      "cell_type": "code",
      "execution_count": null,
      "metadata": {
        "id": "V4l3fdgQt0hL"
      },
      "source": [
        "df_dropped = df_missing.dropna()\n",
        "print(df_dropped)"
      ],
      "outputs": []
    },
    {
      "cell_type": "markdown",
      "metadata": {
        "id": "V62wCxm7t0hL"
      },
      "source": [
        "## 7. groupby() – Gruplama işlemleri"
      ]
    },
    {
      "cell_type": "code",
      "execution_count": null,
      "metadata": {
        "id": "lp3BobGot0hM"
      },
      "source": [
        "df_group = pd.DataFrame({\"Kategori\": [\"A\", \"B\", \"A\", \"B\"], \"Değer\": [10, 20, 30, 40]})\n",
        "print(df_group.groupby(\"Kategori\").mean())"
      ],
      "outputs": []
    },
    {
      "cell_type": "markdown",
      "metadata": {
        "id": "opdO4s8Pt0hM"
      },
      "source": [
        "## 8. sort_values() – Değerleri sıralama"
      ]
    },
    {
      "cell_type": "code",
      "execution_count": null,
      "metadata": {
        "id": "QPmRKqFLt0hM"
      },
      "source": [
        "df_sorted = df.sort_values(\"B\", ascending=False)\n",
        "print(df_sorted)"
      ],
      "outputs": []
    },
    {
      "cell_type": "markdown",
      "metadata": {
        "id": "3SNixhpIt0hN"
      },
      "source": [
        "## 9. apply() – Özel fonksiyonlarla veri işleme"
      ]
    },
    {
      "cell_type": "code",
      "execution_count": null,
      "metadata": {
        "id": "C9KwJ3j6t0hN"
      },
      "source": [
        "df[\"C\"] = df[\"A\"].apply(lambda x: x * 2)\n",
        "print(df)"
      ],
      "outputs": []
    },
    {
      "cell_type": "markdown",
      "metadata": {
        "id": "m388hSYit0hO"
      },
      "source": [
        "## 10. merge() – İki DataFrame’i birleştirme"
      ]
    },
    {
      "cell_type": "code",
      "execution_count": null,
      "metadata": {
        "id": "H4rSnwkGt0hO"
      },
      "source": [
        "df1 = pd.DataFrame({\"ID\": [1, 2, 3], \"Ad\": [\"Miray\", \"Kaan\", \"Yiğit\"]})\n",
        "df2 = pd.DataFrame({\"ID\": [1, 2, 3], \"Not\": [90, 85, 95]})\n",
        "df_merged = pd.merge(df1, df2, on=\"ID\")\n",
        "print(df_merged)"
      ],
      "outputs": []
    }
  ],
  "metadata": {
    "kernelspec": {
      "display_name": "Python 3",
      "language": "python",
      "name": "python3"
    },
    "colab": {
      "provenance": [],
      "include_colab_link": true
    }
  },
  "nbformat": 4,
  "nbformat_minor": 0
}